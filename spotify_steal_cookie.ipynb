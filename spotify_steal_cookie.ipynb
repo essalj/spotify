{
 "cells": [
  {
   "cell_type": "code",
   "execution_count": 43,
   "metadata": {},
   "outputs": [
    {
     "ename": "ImportError",
     "evalue": "No module named pyCookieCheat",
     "output_type": "error",
     "traceback": [
      "\u001b[0;31m---------------------------------------------------------------------------\u001b[0m",
      "\u001b[0;31mImportError\u001b[0m                               Traceback (most recent call last)",
      "\u001b[0;32m<ipython-input-43-d770e5b66471>\u001b[0m in \u001b[0;36m<module>\u001b[0;34m()\u001b[0m\n\u001b[1;32m      1\u001b[0m \u001b[0;32mimport\u001b[0m \u001b[0mrequests\u001b[0m\u001b[0;34m\u001b[0m\u001b[0m\n\u001b[1;32m      2\u001b[0m \u001b[0;34m\u001b[0m\u001b[0m\n\u001b[0;32m----> 3\u001b[0;31m \u001b[0;32mimport\u001b[0m \u001b[0mpyCookieCheat\u001b[0m\u001b[0;34m\u001b[0m\u001b[0m\n\u001b[0m",
      "\u001b[0;31mImportError\u001b[0m: No module named pyCookieCheat"
     ]
    }
   ],
   "source": [
    "import requests\n",
    "\n",
    "import pyCookieCheat"
   ]
  },
  {
   "cell_type": "code",
   "execution_count": 44,
   "metadata": {},
   "outputs": [
    {
     "name": "stdout",
     "output_type": "stream",
     "text": [
      "Collecting pyCookieCheat\n",
      "  Using cached pycookiecheat-0.4.3.tar.gz\n",
      "Requirement already satisfied: keyring==10.3.2 in /Library/Frameworks/Python.framework/Versions/2.7/lib/python2.7/site-packages (from pyCookieCheat)\n",
      "Collecting pycrypto==2.6.1 (from pyCookieCheat)\n",
      "  Using cached pycrypto-2.6.1.tar.gz\n",
      "Installing collected packages: pycrypto, pyCookieCheat\n",
      "  Running setup.py install for pycrypto ... \u001b[?25lerror\n",
      "    Complete output from command /Library/Frameworks/Python.framework/Versions/2.7/Resources/Python.app/Contents/MacOS/Python -u -c \"import setuptools, tokenize;__file__='/private/var/folders/5l/zgvq2lvn5pn5v461004ww41h0000gn/T/pip-build-xKqK5J/pycrypto/setup.py';f=getattr(tokenize, 'open', open)(__file__);code=f.read().replace('\\r\\n', '\\n');f.close();exec(compile(code, __file__, 'exec'))\" install --record /var/folders/5l/zgvq2lvn5pn5v461004ww41h0000gn/T/pip-TnqIV3-record/install-record.txt --single-version-externally-managed --compile:\n",
      "    running install\n",
      "    running build\n",
      "    running build_py\n",
      "    creating build\n",
      "    creating build/lib.macosx-10.6-intel-2.7\n",
      "    creating build/lib.macosx-10.6-intel-2.7/Crypto\n",
      "    copying lib/Crypto/__init__.py -> build/lib.macosx-10.6-intel-2.7/Crypto\n",
      "    copying lib/Crypto/pct_warnings.py -> build/lib.macosx-10.6-intel-2.7/Crypto\n",
      "    creating build/lib.macosx-10.6-intel-2.7/Crypto/Hash\n",
      "    copying lib/Crypto/Hash/__init__.py -> build/lib.macosx-10.6-intel-2.7/Crypto/Hash\n",
      "    copying lib/Crypto/Hash/hashalgo.py -> build/lib.macosx-10.6-intel-2.7/Crypto/Hash\n",
      "    copying lib/Crypto/Hash/HMAC.py -> build/lib.macosx-10.6-intel-2.7/Crypto/Hash\n",
      "    copying lib/Crypto/Hash/MD2.py -> build/lib.macosx-10.6-intel-2.7/Crypto/Hash\n",
      "    copying lib/Crypto/Hash/MD4.py -> build/lib.macosx-10.6-intel-2.7/Crypto/Hash\n",
      "    copying lib/Crypto/Hash/MD5.py -> build/lib.macosx-10.6-intel-2.7/Crypto/Hash\n",
      "    copying lib/Crypto/Hash/RIPEMD.py -> build/lib.macosx-10.6-intel-2.7/Crypto/Hash\n",
      "    copying lib/Crypto/Hash/SHA.py -> build/lib.macosx-10.6-intel-2.7/Crypto/Hash\n",
      "    copying lib/Crypto/Hash/SHA224.py -> build/lib.macosx-10.6-intel-2.7/Crypto/Hash\n",
      "    copying lib/Crypto/Hash/SHA256.py -> build/lib.macosx-10.6-intel-2.7/Crypto/Hash\n",
      "    copying lib/Crypto/Hash/SHA384.py -> build/lib.macosx-10.6-intel-2.7/Crypto/Hash\n",
      "    copying lib/Crypto/Hash/SHA512.py -> build/lib.macosx-10.6-intel-2.7/Crypto/Hash\n",
      "    creating build/lib.macosx-10.6-intel-2.7/Crypto/Cipher\n",
      "    copying lib/Crypto/Cipher/__init__.py -> build/lib.macosx-10.6-intel-2.7/Crypto/Cipher\n",
      "    copying lib/Crypto/Cipher/AES.py -> build/lib.macosx-10.6-intel-2.7/Crypto/Cipher\n",
      "    copying lib/Crypto/Cipher/ARC2.py -> build/lib.macosx-10.6-intel-2.7/Crypto/Cipher\n",
      "    copying lib/Crypto/Cipher/ARC4.py -> build/lib.macosx-10.6-intel-2.7/Crypto/Cipher\n",
      "    copying lib/Crypto/Cipher/blockalgo.py -> build/lib.macosx-10.6-intel-2.7/Crypto/Cipher\n",
      "    copying lib/Crypto/Cipher/Blowfish.py -> build/lib.macosx-10.6-intel-2.7/Crypto/Cipher\n",
      "    copying lib/Crypto/Cipher/CAST.py -> build/lib.macosx-10.6-intel-2.7/Crypto/Cipher\n",
      "    copying lib/Crypto/Cipher/DES.py -> build/lib.macosx-10.6-intel-2.7/Crypto/Cipher\n",
      "    copying lib/Crypto/Cipher/DES3.py -> build/lib.macosx-10.6-intel-2.7/Crypto/Cipher\n",
      "    copying lib/Crypto/Cipher/PKCS1_OAEP.py -> build/lib.macosx-10.6-intel-2.7/Crypto/Cipher\n",
      "    copying lib/Crypto/Cipher/PKCS1_v1_5.py -> build/lib.macosx-10.6-intel-2.7/Crypto/Cipher\n",
      "    copying lib/Crypto/Cipher/XOR.py -> build/lib.macosx-10.6-intel-2.7/Crypto/Cipher\n",
      "    creating build/lib.macosx-10.6-intel-2.7/Crypto/Util\n",
      "    copying lib/Crypto/Util/__init__.py -> build/lib.macosx-10.6-intel-2.7/Crypto/Util\n",
      "    copying lib/Crypto/Util/_number_new.py -> build/lib.macosx-10.6-intel-2.7/Crypto/Util\n",
      "    copying lib/Crypto/Util/asn1.py -> build/lib.macosx-10.6-intel-2.7/Crypto/Util\n",
      "    copying lib/Crypto/Util/Counter.py -> build/lib.macosx-10.6-intel-2.7/Crypto/Util\n",
      "    copying lib/Crypto/Util/number.py -> build/lib.macosx-10.6-intel-2.7/Crypto/Util\n",
      "    copying lib/Crypto/Util/py21compat.py -> build/lib.macosx-10.6-intel-2.7/Crypto/Util\n",
      "    copying lib/Crypto/Util/py3compat.py -> build/lib.macosx-10.6-intel-2.7/Crypto/Util\n",
      "    copying lib/Crypto/Util/randpool.py -> build/lib.macosx-10.6-intel-2.7/Crypto/Util\n",
      "    copying lib/Crypto/Util/RFC1751.py -> build/lib.macosx-10.6-intel-2.7/Crypto/Util\n",
      "    copying lib/Crypto/Util/winrandom.py -> build/lib.macosx-10.6-intel-2.7/Crypto/Util\n",
      "    creating build/lib.macosx-10.6-intel-2.7/Crypto/Random\n",
      "    copying lib/Crypto/Random/__init__.py -> build/lib.macosx-10.6-intel-2.7/Crypto/Random\n",
      "    copying lib/Crypto/Random/_UserFriendlyRNG.py -> build/lib.macosx-10.6-intel-2.7/Crypto/Random\n",
      "    copying lib/Crypto/Random/random.py -> build/lib.macosx-10.6-intel-2.7/Crypto/Random\n",
      "    creating build/lib.macosx-10.6-intel-2.7/Crypto/Random/Fortuna\n",
      "    copying lib/Crypto/Random/Fortuna/__init__.py -> build/lib.macosx-10.6-intel-2.7/Crypto/Random/Fortuna\n",
      "    copying lib/Crypto/Random/Fortuna/FortunaAccumulator.py -> build/lib.macosx-10.6-intel-2.7/Crypto/Random/Fortuna\n",
      "    copying lib/Crypto/Random/Fortuna/FortunaGenerator.py -> build/lib.macosx-10.6-intel-2.7/Crypto/Random/Fortuna\n",
      "    copying lib/Crypto/Random/Fortuna/SHAd256.py -> build/lib.macosx-10.6-intel-2.7/Crypto/Random/Fortuna\n",
      "    creating build/lib.macosx-10.6-intel-2.7/Crypto/Random/OSRNG\n",
      "    copying lib/Crypto/Random/OSRNG/__init__.py -> build/lib.macosx-10.6-intel-2.7/Crypto/Random/OSRNG\n",
      "    copying lib/Crypto/Random/OSRNG/fallback.py -> build/lib.macosx-10.6-intel-2.7/Crypto/Random/OSRNG\n",
      "    copying lib/Crypto/Random/OSRNG/nt.py -> build/lib.macosx-10.6-intel-2.7/Crypto/Random/OSRNG\n",
      "    copying lib/Crypto/Random/OSRNG/posix.py -> build/lib.macosx-10.6-intel-2.7/Crypto/Random/OSRNG\n",
      "    copying lib/Crypto/Random/OSRNG/rng_base.py -> build/lib.macosx-10.6-intel-2.7/Crypto/Random/OSRNG\n",
      "    creating build/lib.macosx-10.6-intel-2.7/Crypto/SelfTest\n",
      "    copying lib/Crypto/SelfTest/__init__.py -> build/lib.macosx-10.6-intel-2.7/Crypto/SelfTest\n",
      "    copying lib/Crypto/SelfTest/st_common.py -> build/lib.macosx-10.6-intel-2.7/Crypto/SelfTest\n",
      "    creating build/lib.macosx-10.6-intel-2.7/Crypto/SelfTest/Cipher\n",
      "    copying lib/Crypto/SelfTest/Cipher/__init__.py -> build/lib.macosx-10.6-intel-2.7/Crypto/SelfTest/Cipher\n",
      "    copying lib/Crypto/SelfTest/Cipher/common.py -> build/lib.macosx-10.6-intel-2.7/Crypto/SelfTest/Cipher\n",
      "    copying lib/Crypto/SelfTest/Cipher/test_AES.py -> build/lib.macosx-10.6-intel-2.7/Crypto/SelfTest/Cipher\n",
      "    copying lib/Crypto/SelfTest/Cipher/test_ARC2.py -> build/lib.macosx-10.6-intel-2.7/Crypto/SelfTest/Cipher\n",
      "    copying lib/Crypto/SelfTest/Cipher/test_ARC4.py -> build/lib.macosx-10.6-intel-2.7/Crypto/SelfTest/Cipher\n",
      "    copying lib/Crypto/SelfTest/Cipher/test_Blowfish.py -> build/lib.macosx-10.6-intel-2.7/Crypto/SelfTest/Cipher\n",
      "    copying lib/Crypto/SelfTest/Cipher/test_CAST.py -> build/lib.macosx-10.6-intel-2.7/Crypto/SelfTest/Cipher\n",
      "    copying lib/Crypto/SelfTest/Cipher/test_DES.py -> build/lib.macosx-10.6-intel-2.7/Crypto/SelfTest/Cipher\n",
      "    copying lib/Crypto/SelfTest/Cipher/test_DES3.py -> build/lib.macosx-10.6-intel-2.7/Crypto/SelfTest/Cipher\n",
      "    copying lib/Crypto/SelfTest/Cipher/test_pkcs1_15.py -> build/lib.macosx-10.6-intel-2.7/Crypto/SelfTest/Cipher\n",
      "    copying lib/Crypto/SelfTest/Cipher/test_pkcs1_oaep.py -> build/lib.macosx-10.6-intel-2.7/Crypto/SelfTest/Cipher\n",
      "    copying lib/Crypto/SelfTest/Cipher/test_XOR.py -> build/lib.macosx-10.6-intel-2.7/Crypto/SelfTest/Cipher\n",
      "    creating build/lib.macosx-10.6-intel-2.7/Crypto/SelfTest/Hash\n",
      "    copying lib/Crypto/SelfTest/Hash/__init__.py -> build/lib.macosx-10.6-intel-2.7/Crypto/SelfTest/Hash\n",
      "    copying lib/Crypto/SelfTest/Hash/common.py -> build/lib.macosx-10.6-intel-2.7/Crypto/SelfTest/Hash\n",
      "    copying lib/Crypto/SelfTest/Hash/test_HMAC.py -> build/lib.macosx-10.6-intel-2.7/Crypto/SelfTest/Hash\n",
      "    copying lib/Crypto/SelfTest/Hash/test_MD2.py -> build/lib.macosx-10.6-intel-2.7/Crypto/SelfTest/Hash\n",
      "    copying lib/Crypto/SelfTest/Hash/test_MD4.py -> build/lib.macosx-10.6-intel-2.7/Crypto/SelfTest/Hash\n",
      "    copying lib/Crypto/SelfTest/Hash/test_MD5.py -> build/lib.macosx-10.6-intel-2.7/Crypto/SelfTest/Hash\n",
      "    copying lib/Crypto/SelfTest/Hash/test_RIPEMD.py -> build/lib.macosx-10.6-intel-2.7/Crypto/SelfTest/Hash\n",
      "    copying lib/Crypto/SelfTest/Hash/test_SHA.py -> build/lib.macosx-10.6-intel-2.7/Crypto/SelfTest/Hash\n",
      "    copying lib/Crypto/SelfTest/Hash/test_SHA224.py -> build/lib.macosx-10.6-intel-2.7/Crypto/SelfTest/Hash\n",
      "    copying lib/Crypto/SelfTest/Hash/test_SHA256.py -> build/lib.macosx-10.6-intel-2.7/Crypto/SelfTest/Hash\n",
      "    copying lib/Crypto/SelfTest/Hash/test_SHA384.py -> build/lib.macosx-10.6-intel-2.7/Crypto/SelfTest/Hash\n",
      "    copying lib/Crypto/SelfTest/Hash/test_SHA512.py -> build/lib.macosx-10.6-intel-2.7/Crypto/SelfTest/Hash\n",
      "    creating build/lib.macosx-10.6-intel-2.7/Crypto/SelfTest/Protocol\n",
      "    copying lib/Crypto/SelfTest/Protocol/__init__.py -> build/lib.macosx-10.6-intel-2.7/Crypto/SelfTest/Protocol\n",
      "    copying lib/Crypto/SelfTest/Protocol/test_AllOrNothing.py -> build/lib.macosx-10.6-intel-2.7/Crypto/SelfTest/Protocol\n",
      "    copying lib/Crypto/SelfTest/Protocol/test_chaffing.py -> build/lib.macosx-10.6-intel-2.7/Crypto/SelfTest/Protocol\n",
      "    copying lib/Crypto/SelfTest/Protocol/test_KDF.py -> build/lib.macosx-10.6-intel-2.7/Crypto/SelfTest/Protocol\n",
      "    copying lib/Crypto/SelfTest/Protocol/test_rfc1751.py -> build/lib.macosx-10.6-intel-2.7/Crypto/SelfTest/Protocol\n",
      "    creating build/lib.macosx-10.6-intel-2.7/Crypto/SelfTest/PublicKey\n",
      "    copying lib/Crypto/SelfTest/PublicKey/__init__.py -> build/lib.macosx-10.6-intel-2.7/Crypto/SelfTest/PublicKey\n",
      "    copying lib/Crypto/SelfTest/PublicKey/test_DSA.py -> build/lib.macosx-10.6-intel-2.7/Crypto/SelfTest/PublicKey\n",
      "    copying lib/Crypto/SelfTest/PublicKey/test_ElGamal.py -> build/lib.macosx-10.6-intel-2.7/Crypto/SelfTest/PublicKey\n",
      "    copying lib/Crypto/SelfTest/PublicKey/test_importKey.py -> build/lib.macosx-10.6-intel-2.7/Crypto/SelfTest/PublicKey\n",
      "    copying lib/Crypto/SelfTest/PublicKey/test_RSA.py -> build/lib.macosx-10.6-intel-2.7/Crypto/SelfTest/PublicKey\n",
      "    creating build/lib.macosx-10.6-intel-2.7/Crypto/SelfTest/Random\n",
      "    copying lib/Crypto/SelfTest/Random/__init__.py -> build/lib.macosx-10.6-intel-2.7/Crypto/SelfTest/Random\n",
      "    copying lib/Crypto/SelfTest/Random/test__UserFriendlyRNG.py -> build/lib.macosx-10.6-intel-2.7/Crypto/SelfTest/Random\n",
      "    copying lib/Crypto/SelfTest/Random/test_random.py -> build/lib.macosx-10.6-intel-2.7/Crypto/SelfTest/Random\n",
      "    copying lib/Crypto/SelfTest/Random/test_rpoolcompat.py -> build/lib.macosx-10.6-intel-2.7/Crypto/SelfTest/Random\n",
      "    creating build/lib.macosx-10.6-intel-2.7/Crypto/SelfTest/Random/Fortuna\n",
      "    copying lib/Crypto/SelfTest/Random/Fortuna/__init__.py -> build/lib.macosx-10.6-intel-2.7/Crypto/SelfTest/Random/Fortuna\n",
      "    copying lib/Crypto/SelfTest/Random/Fortuna/test_FortunaAccumulator.py -> build/lib.macosx-10.6-intel-2.7/Crypto/SelfTest/Random/Fortuna\n",
      "    copying lib/Crypto/SelfTest/Random/Fortuna/test_FortunaGenerator.py -> build/lib.macosx-10.6-intel-2.7/Crypto/SelfTest/Random/Fortuna\n",
      "    copying lib/Crypto/SelfTest/Random/Fortuna/test_SHAd256.py -> build/lib.macosx-10.6-intel-2.7/Crypto/SelfTest/Random/Fortuna\n",
      "    creating build/lib.macosx-10.6-intel-2.7/Crypto/SelfTest/Random/OSRNG\n",
      "    copying lib/Crypto/SelfTest/Random/OSRNG/__init__.py -> build/lib.macosx-10.6-intel-2.7/Crypto/SelfTest/Random/OSRNG\n",
      "    copying lib/Crypto/SelfTest/Random/OSRNG/test_fallback.py -> build/lib.macosx-10.6-intel-2.7/Crypto/SelfTest/Random/OSRNG\n",
      "    copying lib/Crypto/SelfTest/Random/OSRNG/test_generic.py -> build/lib.macosx-10.6-intel-2.7/Crypto/SelfTest/Random/OSRNG\n",
      "    copying lib/Crypto/SelfTest/Random/OSRNG/test_nt.py -> build/lib.macosx-10.6-intel-2.7/Crypto/SelfTest/Random/OSRNG\n",
      "    copying lib/Crypto/SelfTest/Random/OSRNG/test_posix.py -> build/lib.macosx-10.6-intel-2.7/Crypto/SelfTest/Random/OSRNG\n",
      "    copying lib/Crypto/SelfTest/Random/OSRNG/test_winrandom.py -> build/lib.macosx-10.6-intel-2.7/Crypto/SelfTest/Random/OSRNG\n",
      "    creating build/lib.macosx-10.6-intel-2.7/Crypto/SelfTest/Util\n",
      "    copying lib/Crypto/SelfTest/Util/__init__.py -> build/lib.macosx-10.6-intel-2.7/Crypto/SelfTest/Util\n",
      "    copying lib/Crypto/SelfTest/Util/test_asn1.py -> build/lib.macosx-10.6-intel-2.7/Crypto/SelfTest/Util\n",
      "    copying lib/Crypto/SelfTest/Util/test_Counter.py -> build/lib.macosx-10.6-intel-2.7/Crypto/SelfTest/Util\n",
      "    copying lib/Crypto/SelfTest/Util/test_number.py -> build/lib.macosx-10.6-intel-2.7/Crypto/SelfTest/Util\n",
      "    copying lib/Crypto/SelfTest/Util/test_winrandom.py -> build/lib.macosx-10.6-intel-2.7/Crypto/SelfTest/Util\n",
      "    creating build/lib.macosx-10.6-intel-2.7/Crypto/SelfTest/Signature\n",
      "    copying lib/Crypto/SelfTest/Signature/__init__.py -> build/lib.macosx-10.6-intel-2.7/Crypto/SelfTest/Signature\n",
      "    copying lib/Crypto/SelfTest/Signature/test_pkcs1_15.py -> build/lib.macosx-10.6-intel-2.7/Crypto/SelfTest/Signature\n",
      "    copying lib/Crypto/SelfTest/Signature/test_pkcs1_pss.py -> build/lib.macosx-10.6-intel-2.7/Crypto/SelfTest/Signature\n",
      "    creating build/lib.macosx-10.6-intel-2.7/Crypto/Protocol\n",
      "    copying lib/Crypto/Protocol/__init__.py -> build/lib.macosx-10.6-intel-2.7/Crypto/Protocol\n",
      "    copying lib/Crypto/Protocol/AllOrNothing.py -> build/lib.macosx-10.6-intel-2.7/Crypto/Protocol\n",
      "    copying lib/Crypto/Protocol/Chaffing.py -> build/lib.macosx-10.6-intel-2.7/Crypto/Protocol\n",
      "    copying lib/Crypto/Protocol/KDF.py -> build/lib.macosx-10.6-intel-2.7/Crypto/Protocol\n",
      "    creating build/lib.macosx-10.6-intel-2.7/Crypto/PublicKey\n",
      "    copying lib/Crypto/PublicKey/__init__.py -> build/lib.macosx-10.6-intel-2.7/Crypto/PublicKey\n",
      "    copying lib/Crypto/PublicKey/_DSA.py -> build/lib.macosx-10.6-intel-2.7/Crypto/PublicKey\n",
      "    copying lib/Crypto/PublicKey/_RSA.py -> build/lib.macosx-10.6-intel-2.7/Crypto/PublicKey\n",
      "    copying lib/Crypto/PublicKey/_slowmath.py -> build/lib.macosx-10.6-intel-2.7/Crypto/PublicKey\n",
      "    copying lib/Crypto/PublicKey/DSA.py -> build/lib.macosx-10.6-intel-2.7/Crypto/PublicKey\n",
      "    copying lib/Crypto/PublicKey/ElGamal.py -> build/lib.macosx-10.6-intel-2.7/Crypto/PublicKey\n",
      "    copying lib/Crypto/PublicKey/pubkey.py -> build/lib.macosx-10.6-intel-2.7/Crypto/PublicKey\n",
      "    copying lib/Crypto/PublicKey/RSA.py -> build/lib.macosx-10.6-intel-2.7/Crypto/PublicKey\n",
      "    creating build/lib.macosx-10.6-intel-2.7/Crypto/Signature\n",
      "    copying lib/Crypto/Signature/__init__.py -> build/lib.macosx-10.6-intel-2.7/Crypto/Signature\n",
      "    copying lib/Crypto/Signature/PKCS1_PSS.py -> build/lib.macosx-10.6-intel-2.7/Crypto/Signature\n",
      "    copying lib/Crypto/Signature/PKCS1_v1_5.py -> build/lib.macosx-10.6-intel-2.7/Crypto/Signature\n",
      "    running build_ext\n",
      "    running build_configure\n",
      "    checking for gcc... gcc\n",
      "    checking whether the C compiler works... no\n",
      "    configure: error: in `/private/var/folders/5l/zgvq2lvn5pn5v461004ww41h0000gn/T/pip-build-xKqK5J/pycrypto':\n",
      "    configure: error: C compiler cannot create executables\n",
      "    See `config.log' for more details\n",
      "    Traceback (most recent call last):\n",
      "      File \"<string>\", line 1, in <module>\n",
      "      File \"/private/var/folders/5l/zgvq2lvn5pn5v461004ww41h0000gn/T/pip-build-xKqK5J/pycrypto/setup.py\", line 456, in <module>\n",
      "        core.setup(**kw)\n",
      "      File \"/Library/Frameworks/Python.framework/Versions/2.7/lib/python2.7/distutils/core.py\", line 151, in setup\n",
      "        dist.run_commands()\n",
      "      File \"/Library/Frameworks/Python.framework/Versions/2.7/lib/python2.7/distutils/dist.py\", line 953, in run_commands\n",
      "        self.run_command(cmd)\n",
      "      File \"/Library/Frameworks/Python.framework/Versions/2.7/lib/python2.7/distutils/dist.py\", line 972, in run_command\n",
      "        cmd_obj.run()\n",
      "      File \"/Library/Frameworks/Python.framework/Versions/2.7/lib/python2.7/site-packages/setuptools/command/install.py\", line 61, in run\n",
      "        return orig.install.run(self)\n",
      "      File \"/Library/Frameworks/Python.framework/Versions/2.7/lib/python2.7/distutils/command/install.py\", line 563, in run\n",
      "        self.run_command('build')\n",
      "      File \"/Library/Frameworks/Python.framework/Versions/2.7/lib/python2.7/distutils/cmd.py\", line 326, in run_command\n",
      "        self.distribution.run_command(command)\n",
      "      File \"/Library/Frameworks/Python.framework/Versions/2.7/lib/python2.7/distutils/dist.py\", line 972, in run_command\n",
      "        cmd_obj.run()\n",
      "      File \"/Library/Frameworks/Python.framework/Versions/2.7/lib/python2.7/distutils/command/build.py\", line 127, in run\n",
      "        self.run_command(cmd_name)\n",
      "      File \"/Library/Frameworks/Python.framework/Versions/2.7/lib/python2.7/distutils/cmd.py\", line 326, in run_command\n",
      "        self.distribution.run_command(command)\n",
      "      File \"/Library/Frameworks/Python.framework/Versions/2.7/lib/python2.7/distutils/dist.py\", line 972, in run_command\n",
      "        cmd_obj.run()\n",
      "      File \"/private/var/folders/5l/zgvq2lvn5pn5v461004ww41h0000gn/T/pip-build-xKqK5J/pycrypto/setup.py\", line 251, in run\n",
      "        self.run_command(cmd_name)\n",
      "      File \"/Library/Frameworks/Python.framework/Versions/2.7/lib/python2.7/distutils/cmd.py\", line 326, in run_command\n",
      "        self.distribution.run_command(command)\n",
      "      File \"/Library/Frameworks/Python.framework/Versions/2.7/lib/python2.7/distutils/dist.py\", line 972, in run_command\n",
      "        cmd_obj.run()\n",
      "      File \"/private/var/folders/5l/zgvq2lvn5pn5v461004ww41h0000gn/T/pip-build-xKqK5J/pycrypto/setup.py\", line 278, in run\n",
      "        raise RuntimeError(\"autoconf error\")\n",
      "    RuntimeError: autoconf error\n",
      "    \n",
      "    ----------------------------------------\n"
     ]
    },
    {
     "name": "stdout",
     "output_type": "stream",
     "text": [
      "\u001b[31mCommand \"/Library/Frameworks/Python.framework/Versions/2.7/Resources/Python.app/Contents/MacOS/Python -u -c \"import setuptools, tokenize;__file__='/private/var/folders/5l/zgvq2lvn5pn5v461004ww41h0000gn/T/pip-build-xKqK5J/pycrypto/setup.py';f=getattr(tokenize, 'open', open)(__file__);code=f.read().replace('\\r\\n', '\\n');f.close();exec(compile(code, __file__, 'exec'))\" install --record /var/folders/5l/zgvq2lvn5pn5v461004ww41h0000gn/T/pip-TnqIV3-record/install-record.txt --single-version-externally-managed --compile\" failed with error code 1 in /private/var/folders/5l/zgvq2lvn5pn5v461004ww41h0000gn/T/pip-build-xKqK5J/pycrypto/\u001b[0m\n",
      "\u001b[?25h"
     ]
    }
   ],
   "source": [
    "!pip install pyCookieCheat"
   ]
  },
  {
   "cell_type": "code",
   "execution_count": 41,
   "metadata": {},
   "outputs": [
    {
     "ename": "ImportError",
     "evalue": "No module named pycookiecheat",
     "output_type": "error",
     "traceback": [
      "\u001b[0;31m---------------------------------------------------------------------------\u001b[0m",
      "\u001b[0;31mImportError\u001b[0m                               Traceback (most recent call last)",
      "\u001b[0;32m<ipython-input-41-b8910abd53f4>\u001b[0m in \u001b[0;36m<module>\u001b[0;34m()\u001b[0m\n\u001b[0;32m----> 1\u001b[0;31m \u001b[0;32mfrom\u001b[0m \u001b[0mpycookiecheat\u001b[0m \u001b[0;32mimport\u001b[0m \u001b[0mchrome_cookies\u001b[0m\u001b[0;34m\u001b[0m\u001b[0m\n\u001b[0m\u001b[1;32m      2\u001b[0m \u001b[0;32mimport\u001b[0m \u001b[0mrequests\u001b[0m\u001b[0;34m\u001b[0m\u001b[0m\n\u001b[1;32m      3\u001b[0m \u001b[0;34m\u001b[0m\u001b[0m\n\u001b[1;32m      4\u001b[0m \u001b[0murl\u001b[0m \u001b[0;34m=\u001b[0m \u001b[0;34m'http://example.com/fake.html'\u001b[0m\u001b[0;34m\u001b[0m\u001b[0m\n\u001b[1;32m      5\u001b[0m \u001b[0;34m\u001b[0m\u001b[0m\n",
      "\u001b[0;31mImportError\u001b[0m: No module named pycookiecheat"
     ]
    }
   ],
   "source": [
    "from pycookiecheat import chrome_cookies\n",
    "import requests\n",
    "\n",
    "url = 'http://example.com/fake.html'\n",
    "\n",
    "# Uses Chrome's default cookies filepath by default\n",
    "cookies = chrome_cookies(url)\n",
    "r = requests.get(url, cookies=cookies)\n",
    "\n",
    "\n",
    "# Use the `cookie_file` keyword-argument to specify a different filepath for the\n",
    "# cookies-file: `chrome_cookies(url, cookie_file='/abspath/to/cookies')`\n",
    "\n",
    "# Keep in mind that pycookiecheat defaults to looking for cookies for\n",
    "# Chromium, not Google Chrome, so if you're using the latter, you'll need to\n",
    "# manually specify something like\n",
    "# \"/home/username/.config/google-chrome/Default/Cookies\"` as your `cookie_file`.\n",
    "\n"
   ]
  },
  {
   "cell_type": "code",
   "execution_count": 22,
   "metadata": {},
   "outputs": [
    {
     "ename": "ImportError",
     "evalue": "No module named pyCookieCheat",
     "output_type": "error",
     "traceback": [
      "\u001b[0;31m---------------------------------------------------------------------------\u001b[0m",
      "\u001b[0;31mImportError\u001b[0m                               Traceback (most recent call last)",
      "\u001b[0;32m<ipython-input-22-6e7a28a65c8e>\u001b[0m in \u001b[0;36m<module>\u001b[0;34m()\u001b[0m\n\u001b[1;32m      1\u001b[0m \u001b[0;32mimport\u001b[0m \u001b[0mrequests\u001b[0m\u001b[0;34m\u001b[0m\u001b[0m\n\u001b[0;32m----> 2\u001b[0;31m \u001b[0;32mimport\u001b[0m \u001b[0mpyCookieCheat\u001b[0m\u001b[0;34m\u001b[0m\u001b[0m\n\u001b[0m",
      "\u001b[0;31mImportError\u001b[0m: No module named pyCookieCheat"
     ]
    }
   ],
   "source": []
  },
  {
   "cell_type": "code",
   "execution_count": null,
   "metadata": {
    "collapsed": true
   },
   "outputs": [],
   "source": [
    "username='celiche'\n",
    "password='9558sumirP'"
   ]
  },
  {
   "cell_type": "code",
   "execution_count": 21,
   "metadata": {
    "collapsed": true
   },
   "outputs": [],
   "source": [
    "def login(username, password):\n",
    "    session = requests.Session()\n",
    "    \n",
    "    \n",
    "    response = session.post('https://en.storebox.com/api/v1/authenticate',\n",
    "                 json={'username': username, 'password': password})\n",
    "\n",
    "    return session, response\n"
   ]
  },
  {
   "cell_type": "code",
   "execution_count": null,
   "metadata": {
    "collapsed": true
   },
   "outputs": [],
   "source": [
    "def get_user_receipts(username, password):\n",
    "    s, response = login(username, password)\n",
    "#     logger.debug(f\"User {username} logged in, response was: {response.json()}\")\n",
    "\n",
    "    shops_list = list_user_shops(s)\n",
    "\n",
    "    receipts = []\n",
    "    for shop in shops_list:\n",
    "        shop_id = shop['dir_id']\n",
    "\n",
    "        receipt_ids = get_receipt_ids_by_shop(s, shop_id)\n",
    "\n",
    "        if len(receipt_ids) > 0:\n",
    "            receipts_shop = []\n",
    "            for receipt_id in receipt_ids:\n",
    "                receipt = get_receipt(s, receipt_id)\n",
    "                receipts_shop.append(receipt)\n",
    "            receipts.append(receipts_shop)\n",
    "\n",
    "    return receipts\n",
    "\n",
    "\n"
   ]
  },
  {
   "cell_type": "code",
   "execution_count": null,
   "metadata": {
    "collapsed": true
   },
   "outputs": [],
   "source": []
  },
  {
   "cell_type": "code",
   "execution_count": null,
   "metadata": {
    "collapsed": true
   },
   "outputs": [],
   "source": []
  },
  {
   "cell_type": "code",
   "execution_count": null,
   "metadata": {
    "collapsed": true
   },
   "outputs": [],
   "source": []
  },
  {
   "cell_type": "code",
   "execution_count": null,
   "metadata": {
    "collapsed": true
   },
   "outputs": [],
   "source": []
  },
  {
   "cell_type": "code",
   "execution_count": null,
   "metadata": {
    "collapsed": true
   },
   "outputs": [],
   "source": []
  },
  {
   "cell_type": "code",
   "execution_count": null,
   "metadata": {
    "collapsed": true
   },
   "outputs": [],
   "source": []
  },
  {
   "cell_type": "code",
   "execution_count": null,
   "metadata": {
    "collapsed": true
   },
   "outputs": [],
   "source": []
  },
  {
   "cell_type": "code",
   "execution_count": null,
   "metadata": {
    "collapsed": true
   },
   "outputs": [],
   "source": []
  },
  {
   "cell_type": "code",
   "execution_count": null,
   "metadata": {
    "collapsed": true
   },
   "outputs": [],
   "source": []
  },
  {
   "cell_type": "code",
   "execution_count": null,
   "metadata": {
    "collapsed": true
   },
   "outputs": [],
   "source": []
  },
  {
   "cell_type": "code",
   "execution_count": null,
   "metadata": {
    "collapsed": true
   },
   "outputs": [],
   "source": []
  },
  {
   "cell_type": "code",
   "execution_count": null,
   "metadata": {
    "collapsed": true
   },
   "outputs": [],
   "source": []
  },
  {
   "cell_type": "code",
   "execution_count": null,
   "metadata": {
    "collapsed": true
   },
   "outputs": [],
   "source": []
  },
  {
   "cell_type": "code",
   "execution_count": null,
   "metadata": {
    "collapsed": true
   },
   "outputs": [],
   "source": []
  },
  {
   "cell_type": "code",
   "execution_count": null,
   "metadata": {
    "collapsed": true
   },
   "outputs": [],
   "source": []
  },
  {
   "cell_type": "code",
   "execution_count": null,
   "metadata": {
    "collapsed": true
   },
   "outputs": [],
   "source": []
  },
  {
   "cell_type": "code",
   "execution_count": null,
   "metadata": {
    "collapsed": true
   },
   "outputs": [],
   "source": []
  },
  {
   "cell_type": "code",
   "execution_count": 18,
   "metadata": {
    "collapsed": true
   },
   "outputs": [],
   "source": [
    "import spotipy"
   ]
  },
  {
   "cell_type": "code",
   "execution_count": 20,
   "metadata": {},
   "outputs": [
    {
     "ename": "SpotifyException",
     "evalue": "http status: 401, code:-1 - https://api.spotify.com/v1/search?q=artist%3Abruce&type=artist&limit=10&offset=0:\n No token provided",
     "output_type": "error",
     "traceback": [
      "\u001b[0;31m---------------------------------------------------------------------------\u001b[0m",
      "\u001b[0;31mSpotifyException\u001b[0m                          Traceback (most recent call last)",
      "\u001b[0;32m<ipython-input-20-3a0c0cd44a7f>\u001b[0m in \u001b[0;36m<module>\u001b[0;34m()\u001b[0m\n\u001b[1;32m      1\u001b[0m \u001b[0mspotify\u001b[0m \u001b[0;34m=\u001b[0m \u001b[0mspotipy\u001b[0m\u001b[0;34m.\u001b[0m\u001b[0mSpotify\u001b[0m\u001b[0;34m(\u001b[0m\u001b[0;34m)\u001b[0m\u001b[0;34m\u001b[0m\u001b[0m\n\u001b[1;32m      2\u001b[0m \u001b[0mname\u001b[0m\u001b[0;34m=\u001b[0m\u001b[0;34m\"bruce\"\u001b[0m\u001b[0;34m\u001b[0m\u001b[0m\n\u001b[0;32m----> 3\u001b[0;31m \u001b[0mresults\u001b[0m \u001b[0;34m=\u001b[0m \u001b[0mspotify\u001b[0m\u001b[0;34m.\u001b[0m\u001b[0msearch\u001b[0m\u001b[0;34m(\u001b[0m\u001b[0mq\u001b[0m\u001b[0;34m=\u001b[0m\u001b[0;34m'artist:'\u001b[0m \u001b[0;34m+\u001b[0m \u001b[0mname\u001b[0m\u001b[0;34m,\u001b[0m \u001b[0mtype\u001b[0m\u001b[0;34m=\u001b[0m\u001b[0;34m'artist'\u001b[0m\u001b[0;34m)\u001b[0m\u001b[0;34m\u001b[0m\u001b[0m\n\u001b[0m\u001b[1;32m      4\u001b[0m \u001b[0;32mprint\u001b[0m\u001b[0;34m(\u001b[0m \u001b[0mresults\u001b[0m\u001b[0;34m)\u001b[0m\u001b[0;34m\u001b[0m\u001b[0m\n",
      "\u001b[0;32m/Library/Frameworks/Python.framework/Versions/2.7/lib/python2.7/site-packages/spotipy/client.pyc\u001b[0m in \u001b[0;36msearch\u001b[0;34m(self, q, limit, offset, type, market)\u001b[0m\n\u001b[1;32m    337\u001b[0m                 \u001b[0;34m-\u001b[0m \u001b[0mmarket\u001b[0m \u001b[0;34m-\u001b[0m \u001b[0mAn\u001b[0m \u001b[0mISO\u001b[0m \u001b[0;36m3166\u001b[0m\u001b[0;34m-\u001b[0m\u001b[0;36m1\u001b[0m \u001b[0malpha\u001b[0m\u001b[0;34m-\u001b[0m\u001b[0;36m2\u001b[0m \u001b[0mcountry\u001b[0m \u001b[0mcode\u001b[0m \u001b[0;32mor\u001b[0m \u001b[0mthe\u001b[0m \u001b[0mstring\u001b[0m \u001b[0mfrom_token\u001b[0m\u001b[0;34m.\u001b[0m\u001b[0;34m\u001b[0m\u001b[0m\n\u001b[1;32m    338\u001b[0m         '''\n\u001b[0;32m--> 339\u001b[0;31m         \u001b[0;32mreturn\u001b[0m \u001b[0mself\u001b[0m\u001b[0;34m.\u001b[0m\u001b[0m_get\u001b[0m\u001b[0;34m(\u001b[0m\u001b[0;34m'search'\u001b[0m\u001b[0;34m,\u001b[0m \u001b[0mq\u001b[0m\u001b[0;34m=\u001b[0m\u001b[0mq\u001b[0m\u001b[0;34m,\u001b[0m \u001b[0mlimit\u001b[0m\u001b[0;34m=\u001b[0m\u001b[0mlimit\u001b[0m\u001b[0;34m,\u001b[0m \u001b[0moffset\u001b[0m\u001b[0;34m=\u001b[0m\u001b[0moffset\u001b[0m\u001b[0;34m,\u001b[0m \u001b[0mtype\u001b[0m\u001b[0;34m=\u001b[0m\u001b[0mtype\u001b[0m\u001b[0;34m,\u001b[0m \u001b[0mmarket\u001b[0m\u001b[0;34m=\u001b[0m\u001b[0mmarket\u001b[0m\u001b[0;34m)\u001b[0m\u001b[0;34m\u001b[0m\u001b[0m\n\u001b[0m\u001b[1;32m    340\u001b[0m \u001b[0;34m\u001b[0m\u001b[0m\n\u001b[1;32m    341\u001b[0m     \u001b[0;32mdef\u001b[0m \u001b[0muser\u001b[0m\u001b[0;34m(\u001b[0m\u001b[0mself\u001b[0m\u001b[0;34m,\u001b[0m \u001b[0muser\u001b[0m\u001b[0;34m)\u001b[0m\u001b[0;34m:\u001b[0m\u001b[0;34m\u001b[0m\u001b[0m\n",
      "\u001b[0;32m/Library/Frameworks/Python.framework/Versions/2.7/lib/python2.7/site-packages/spotipy/client.pyc\u001b[0m in \u001b[0;36m_get\u001b[0;34m(self, url, args, payload, **kwargs)\u001b[0m\n\u001b[1;32m    144\u001b[0m         \u001b[0;32mwhile\u001b[0m \u001b[0mretries\u001b[0m \u001b[0;34m>\u001b[0m \u001b[0;36m0\u001b[0m\u001b[0;34m:\u001b[0m\u001b[0;34m\u001b[0m\u001b[0m\n\u001b[1;32m    145\u001b[0m             \u001b[0;32mtry\u001b[0m\u001b[0;34m:\u001b[0m\u001b[0;34m\u001b[0m\u001b[0m\n\u001b[0;32m--> 146\u001b[0;31m                 \u001b[0;32mreturn\u001b[0m \u001b[0mself\u001b[0m\u001b[0;34m.\u001b[0m\u001b[0m_internal_call\u001b[0m\u001b[0;34m(\u001b[0m\u001b[0;34m'GET'\u001b[0m\u001b[0;34m,\u001b[0m \u001b[0murl\u001b[0m\u001b[0;34m,\u001b[0m \u001b[0mpayload\u001b[0m\u001b[0;34m,\u001b[0m \u001b[0mkwargs\u001b[0m\u001b[0;34m)\u001b[0m\u001b[0;34m\u001b[0m\u001b[0m\n\u001b[0m\u001b[1;32m    147\u001b[0m             \u001b[0;32mexcept\u001b[0m \u001b[0mSpotifyException\u001b[0m \u001b[0;32mas\u001b[0m \u001b[0me\u001b[0m\u001b[0;34m:\u001b[0m\u001b[0;34m\u001b[0m\u001b[0m\n\u001b[1;32m    148\u001b[0m                 \u001b[0mretries\u001b[0m \u001b[0;34m-=\u001b[0m \u001b[0;36m1\u001b[0m\u001b[0;34m\u001b[0m\u001b[0m\n",
      "\u001b[0;32m/Library/Frameworks/Python.framework/Versions/2.7/lib/python2.7/site-packages/spotipy/client.pyc\u001b[0m in \u001b[0;36m_internal_call\u001b[0;34m(self, method, url, payload, params)\u001b[0m\n\u001b[1;32m    122\u001b[0m                 raise SpotifyException(r.status_code,\n\u001b[1;32m    123\u001b[0m                     \u001b[0;34m-\u001b[0m\u001b[0;36m1\u001b[0m\u001b[0;34m,\u001b[0m \u001b[0;34m'%s:\\n %s'\u001b[0m \u001b[0;34m%\u001b[0m \u001b[0;34m(\u001b[0m\u001b[0mr\u001b[0m\u001b[0;34m.\u001b[0m\u001b[0murl\u001b[0m\u001b[0;34m,\u001b[0m \u001b[0mr\u001b[0m\u001b[0;34m.\u001b[0m\u001b[0mjson\u001b[0m\u001b[0;34m(\u001b[0m\u001b[0;34m)\u001b[0m\u001b[0;34m[\u001b[0m\u001b[0;34m'error'\u001b[0m\u001b[0;34m]\u001b[0m\u001b[0;34m[\u001b[0m\u001b[0;34m'message'\u001b[0m\u001b[0;34m]\u001b[0m\u001b[0;34m)\u001b[0m\u001b[0;34m,\u001b[0m\u001b[0;34m\u001b[0m\u001b[0m\n\u001b[0;32m--> 124\u001b[0;31m                     headers=r.headers)\n\u001b[0m\u001b[1;32m    125\u001b[0m             \u001b[0;32melse\u001b[0m\u001b[0;34m:\u001b[0m\u001b[0;34m\u001b[0m\u001b[0m\n\u001b[1;32m    126\u001b[0m                 raise SpotifyException(r.status_code,\n",
      "\u001b[0;31mSpotifyException\u001b[0m: http status: 401, code:-1 - https://api.spotify.com/v1/search?q=artist%3Abruce&type=artist&limit=10&offset=0:\n No token provided"
     ]
    }
   ],
   "source": [
    "spotify = spotipy.Spotify()\n",
    "name=\"bruce\"\n",
    "results = spotify.search(q='artist:' + name, type='artist')\n",
    "print( results)"
   ]
  },
  {
   "cell_type": "code",
   "execution_count": 16,
   "metadata": {},
   "outputs": [
    {
     "name": "stdout",
     "output_type": "stream",
     "text": [
      "\n",
      "            You need to set your Spotify API credentials. You can do this by\n",
      "            setting environment variables like so:\n",
      "\n",
      "            export SPOTIPY_CLIENT_ID='your-spotify-client-id'\n",
      "            export SPOTIPY_CLIENT_SECRET='your-spotify-client-secret'\n",
      "            export SPOTIPY_REDIRECT_URI='your-app-redirect-url'\n",
      "\n",
      "            Get your credentials at     \n",
      "                https://developer.spotify.com/my-applications\n",
      "        \n"
     ]
    },
    {
     "ename": "SpotifyException",
     "evalue": "http status: 550, code:-1 - no credentials set",
     "output_type": "error",
     "traceback": [
      "\u001b[0;31m---------------------------------------------------------------------------\u001b[0m",
      "\u001b[0;31mSpotifyException\u001b[0m                          Traceback (most recent call last)",
      "\u001b[0;32m<ipython-input-16-2e0c1fcbed5c>\u001b[0m in \u001b[0;36m<module>\u001b[0;34m()\u001b[0m\n\u001b[1;32m     24\u001b[0m         \u001b[0;32mprint\u001b[0m\u001b[0;34m(\u001b[0m\u001b[0;34m\"usage: python user_playlists_contents.py [username]\"\u001b[0m\u001b[0;34m)\u001b[0m\u001b[0;34m\u001b[0m\u001b[0m\n\u001b[1;32m     25\u001b[0m         \u001b[0msys\u001b[0m\u001b[0;34m.\u001b[0m\u001b[0mexit\u001b[0m\u001b[0;34m(\u001b[0m\u001b[0;34m)\u001b[0m\u001b[0;34m\u001b[0m\u001b[0m\n\u001b[0;32m---> 26\u001b[0;31m     \u001b[0mtoken\u001b[0m \u001b[0;34m=\u001b[0m \u001b[0mutil\u001b[0m\u001b[0;34m.\u001b[0m\u001b[0mprompt_for_user_token\u001b[0m\u001b[0;34m(\u001b[0m\u001b[0musername\u001b[0m\u001b[0;34m)\u001b[0m\u001b[0;34m\u001b[0m\u001b[0m\n\u001b[0m\u001b[1;32m     27\u001b[0m \u001b[0;34m\u001b[0m\u001b[0m\n\u001b[1;32m     28\u001b[0m     \u001b[0;32mif\u001b[0m \u001b[0mtoken\u001b[0m\u001b[0;34m:\u001b[0m\u001b[0;34m\u001b[0m\u001b[0m\n",
      "\u001b[0;32m/Library/Frameworks/Python.framework/Versions/2.7/lib/python2.7/site-packages/spotipy/util.pyc\u001b[0m in \u001b[0;36mprompt_for_user_token\u001b[0;34m(username, scope, client_id, client_secret, redirect_uri)\u001b[0m\n\u001b[1;32m     45\u001b[0m                 \u001b[0mhttps\u001b[0m\u001b[0;34m:\u001b[0m\u001b[0;34m//\u001b[0m\u001b[0mdeveloper\u001b[0m\u001b[0;34m.\u001b[0m\u001b[0mspotify\u001b[0m\u001b[0;34m.\u001b[0m\u001b[0mcom\u001b[0m\u001b[0;34m/\u001b[0m\u001b[0mmy\u001b[0m\u001b[0;34m-\u001b[0m\u001b[0mapplications\u001b[0m\u001b[0;34m\u001b[0m\u001b[0m\n\u001b[1;32m     46\u001b[0m         ''')\n\u001b[0;32m---> 47\u001b[0;31m         \u001b[0;32mraise\u001b[0m \u001b[0mspotipy\u001b[0m\u001b[0;34m.\u001b[0m\u001b[0mSpotifyException\u001b[0m\u001b[0;34m(\u001b[0m\u001b[0;36m550\u001b[0m\u001b[0;34m,\u001b[0m \u001b[0;34m-\u001b[0m\u001b[0;36m1\u001b[0m\u001b[0;34m,\u001b[0m \u001b[0;34m'no credentials set'\u001b[0m\u001b[0;34m)\u001b[0m\u001b[0;34m\u001b[0m\u001b[0m\n\u001b[0m\u001b[1;32m     48\u001b[0m \u001b[0;34m\u001b[0m\u001b[0m\n\u001b[1;32m     49\u001b[0m     sp_oauth = oauth2.SpotifyOAuth(client_id, client_secret, redirect_uri, \n",
      "\u001b[0;31mSpotifyException\u001b[0m: http status: 550, code:-1 - no credentials set"
     ]
    }
   ],
   "source": [
    "# shows a user's playlists (need to be authenticated via oauth)\n",
    "\n",
    "import sys\n",
    "import spotipy\n",
    "import spotipy.util as util\n",
    "\n",
    "\n",
    "client_id='173b44b3477f400ca933a97a5701e93d'\n",
    "client_secret='265f81cf07634556986efa03e41b9beb'\n",
    "redirect_uri='http://mysite.com/callback/'\n",
    "\n",
    "username=client_id #'celiche'\n",
    "def show_tracks(results):\n",
    "    for i, item in enumerate(results['items']):\n",
    "        track = item['track']\n",
    "        print(\"   %d %32.32s %s\" % (i, track['artists'][0]['name'], track['name']))\n",
    "\n",
    "\n",
    "if __name__ == '__main__':\n",
    "    if len(sys.argv) > 1:\n",
    "        username = sys.argv[1]\n",
    "    else:\n",
    "        print(\"Whoops, need your username!\")\n",
    "        print(\"usage: python user_playlists_contents.py [username]\")\n",
    "        sys.exit()\n",
    "    token = util.prompt_for_user_token(username)\n",
    "\n",
    "    if token:\n",
    "        sp = spotipy.Spotify(auth=token)\n",
    "        playlists = sp.user_playlists(username)\n",
    "        for playlist in playlists['items']:\n",
    "            if playlist['owner']['id'] == username:\n",
    "                print()\n",
    "                print(playlist['name'])\n",
    "                print('  total tracks', playlist['tracks']['total'])\n",
    "                results = sp.user_playlist(username, playlist['id'], fields=\"tracks,next\")\n",
    "                tracks = results['tracks']\n",
    "                show_tracks(tracks)\n",
    "                while tracks['next']:\n",
    "                    tracks = sp.next(tracks)\n",
    "                    show_tracks(tracks)\n",
    "    else:\n",
    "        print(\"Can't get token for\", username)\n",
    "\n"
   ]
  },
  {
   "cell_type": "code",
   "execution_count": null,
   "metadata": {
    "collapsed": true
   },
   "outputs": [],
   "source": []
  },
  {
   "cell_type": "code",
   "execution_count": 10,
   "metadata": {},
   "outputs": [
    {
     "data": {
      "text/plain": [
       "<Response [400]>"
      ]
     },
     "execution_count": 10,
     "metadata": {},
     "output_type": "execute_result"
    }
   ],
   "source": [
    "import pandas as pd\n",
    "import requests\n",
    "import json\n",
    "import datetime\n",
    "\n",
    "#logging in to storebox\n",
    "uid='user_1000000'\n",
    "date_limit='2016.04.01'\n",
    "stb_uid='essalj@yahoo.dk'\n",
    "stb_pw='Storebox123'\n",
    "\n",
    "client_id='173b44b3477f400ca933a97a5701e93d'\n",
    "client_secret='265f81cf07634556986efa03e41b9beb'\n",
    "redirect_uri='http://mysite.com/callback/'\n",
    "\n",
    "s = requests.Session()\n",
    "    \n",
    "s.post(\"https://accounts.spotify.com/api/token\", data = { \"grant_type\": \"authorization_code\",\n",
    "                                                         \"code\":          '8559sumirP',\n",
    "                                                         \"redirect_uri\":  redirect_uri,\n",
    "#                                                        \"client_secret\": mysecret,\n",
    "                                                         \"client_id\":     '173b44b3477f400ca933a97a5701e93d'})"
   ]
  },
  {
   "cell_type": "code",
   "execution_count": 4,
   "metadata": {},
   "outputs": [
    {
     "name": "stdout",
     "output_type": "stream",
     "text": [
      "('user_1000000', '2016.04.01', 'essalj@yahoo.dk', 'Storebox123')\n",
      "logged in\n"
     ]
    },
    {
     "ename": "NameError",
     "evalue": "name 'view_shops' is not defined",
     "output_type": "error",
     "traceback": [
      "\u001b[0;31m---------------------------------------------------------------------------\u001b[0m",
      "\u001b[0;31mNameError\u001b[0m                                 Traceback (most recent call last)",
      "\u001b[0;32m<ipython-input-4-4dfa48765f6b>\u001b[0m in \u001b[0;36m<module>\u001b[0;34m()\u001b[0m\n\u001b[1;32m     17\u001b[0m \u001b[0;34m\u001b[0m\u001b[0m\n\u001b[1;32m     18\u001b[0m \u001b[0;31m#gets_shop_list\u001b[0m\u001b[0;34m\u001b[0m\u001b[0;34m\u001b[0m\u001b[0m\n\u001b[0;32m---> 19\u001b[0;31m \u001b[0mlist_shops\u001b[0m\u001b[0;34m=\u001b[0m\u001b[0mview_shops\u001b[0m\u001b[0;34m(\u001b[0m\u001b[0;34m)\u001b[0m\u001b[0;34m\u001b[0m\u001b[0m\n\u001b[0m\u001b[1;32m     20\u001b[0m \u001b[0;32mprint\u001b[0m\u001b[0;34m(\u001b[0m\u001b[0;34m'----------------'\u001b[0m\u001b[0;34m)\u001b[0m\u001b[0;34m\u001b[0m\u001b[0m\n\u001b[1;32m     21\u001b[0m \u001b[0;32mprint\u001b[0m\u001b[0;34m(\u001b[0m\u001b[0mlist_shops\u001b[0m\u001b[0;34m)\u001b[0m\u001b[0;34m\u001b[0m\u001b[0m\n",
      "\u001b[0;31mNameError\u001b[0m: name 'view_shops' is not defined"
     ]
    }
   ],
   "source": [
    "login(stb_uid,stb_pw)\n",
    "\n",
    "#gets_shop_list\n",
    "#list_shops=view_shops()\n",
    "print('----------------')\n",
    "print(list_shops)\n",
    "print('----------------')"
   ]
  },
  {
   "cell_type": "code",
   "execution_count": null,
   "metadata": {
    "collapsed": true
   },
   "outputs": [],
   "source": []
  }
 ],
 "metadata": {
  "kernelspec": {
   "display_name": "Python 3",
   "language": "python",
   "name": "python3"
  },
  "language_info": {
   "codemirror_mode": {
    "name": "ipython",
    "version": 2
   },
   "file_extension": ".py",
   "mimetype": "text/x-python",
   "name": "python",
   "nbconvert_exporter": "python",
   "pygments_lexer": "ipython2",
   "version": "2.7.13"
  }
 },
 "nbformat": 4,
 "nbformat_minor": 2
}
