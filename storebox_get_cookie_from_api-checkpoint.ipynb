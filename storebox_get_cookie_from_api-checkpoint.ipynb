{
 "cells": [
  {
   "cell_type": "code",
   "execution_count": 3,
   "metadata": {
    "collapsed": true
   },
   "outputs": [],
   "source": [
    "\n",
    "\n",
    "import requests\n",
    "r = requests.post('https://en.storebox.com/api/v1/authenticate',\n",
    "                  json={'username':'x.mails123@gmail.com', 'password':'Storebox123'})"
   ]
  },
  {
   "cell_type": "code",
   "execution_count": 4,
   "metadata": {},
   "outputs": [
    {
     "data": {
      "text/plain": [
       "<Response [200]>"
      ]
     },
     "execution_count": 4,
     "metadata": {},
     "output_type": "execute_result"
    }
   ],
   "source": [
    "r"
   ]
  },
  {
   "cell_type": "code",
   "execution_count": 5,
   "metadata": {},
   "outputs": [
    {
     "data": {
      "text/plain": [
       "'{\\n  \"code\" : 0,\\n  \"message\" : \"Success\",\\n  \"payload\" : {\\n    \"code\" : 0,\\n    \"userId\" : \"o4ogehr6m8kg3smb82lmqxsnq34giwei\",\\n    \"name\" : \"Camilla Kerlauge\",\\n    \"address\" : {\\n      \"addressLine\" : \"\",\\n      \"city\" : null,\\n      \"zipCode\" : null,\\n      \"country\" : null\\n    },\\n    \"email\" : \"X.mails123@gmail.com\",\\n    \"msisdn\" : 4561628174,\\n    \"locale\" : \"en_US\",\\n    \"cardRequired\" : true,\\n    \"greenProfile\" : false,\\n    \"marketingPermission\" : false,\\n    \"admin\" : false,\\n    \"expires\" : 1513148273234,\\n    \"enabled\" : true,\\n    \"accountNonExpired\" : true,\\n    \"accountNonLocked\" : true,\\n    \"credentialsNonExpired\" : true\\n  }\\n}'"
      ]
     },
     "execution_count": 5,
     "metadata": {},
     "output_type": "execute_result"
    }
   ],
   "source": [
    "r.content"
   ]
  },
  {
   "cell_type": "code",
   "execution_count": 6,
   "metadata": {},
   "outputs": [
    {
     "data": {
      "text/plain": [
       "'eyJhbGciOiJIUzI1NiJ9.eyJzdWIiOiJ7XCJjb2RlXCI6MCxcInVzZXJJZFwiOlwibzRvZ2VocjZtOGtnM3NtYjgybG1xeHNucTM0Z2l3ZWlcIixcIm5hbWVcIjpcIkNhbWlsbGEgS2VybGF1Z2VcIixcImFkZHJlc3NcIjp7XCJhZGRyZXNzTGluZVwiOlwiXCIsXCJjaXR5XCI6bnVsbCxcInppcENvZGVcIjpudWxsLFwiY291bnRyeVwiOm51bGx9LFwiZW1haWxcIjpcIlgubWFpbHMxMjNAZ21haWwuY29tXCIsXCJtc2lzZG5cIjo0NTYxNjI4MTc0LFwibG9jYWxlXCI6XCJlbl9VU1wiLFwiY2FyZFJlcXVpcmVkXCI6dHJ1ZSxcImdyZWVuUHJvZmlsZVwiOmZhbHNlLFwibWFya2V0aW5nUGVybWlzc2lvblwiOmZhbHNlLFwiYWRtaW5cIjpmYWxzZSxcImV4cGlyZXNcIjoxNTEzMTQ4MjczMjM0LFwiZW5hYmxlZFwiOnRydWUsXCJhY2NvdW50Tm9uRXhwaXJlZFwiOnRydWUsXCJhY2NvdW50Tm9uTG9ja2VkXCI6dHJ1ZSxcImNyZWRlbnRpYWxzTm9uRXhwaXJlZFwiOnRydWV9IiwiZXhwIjoxNTEzMTQ4MjczfQ.evpy20dqt8mhSr_73N0Mgt3XHgBGryIcBVod0R2N3qU'"
      ]
     },
     "execution_count": 6,
     "metadata": {},
     "output_type": "execute_result"
    }
   ],
   "source": [
    "r.cookies['auth-token']"
   ]
  },
  {
   "cell_type": "code",
   "execution_count": 15,
   "metadata": {
    "collapsed": true
   },
   "outputs": [],
   "source": [
    "r2=requests.post('https://dk.storebox.com/api/v1/receipts?count=20&direction=desc&offset=0&orderBy=merchant')"
   ]
  },
  {
   "cell_type": "code",
   "execution_count": 16,
   "metadata": {},
   "outputs": [
    {
     "data": {
      "text/plain": [
       "'{\\n  \"timestamp\" : \"2017-11-12T19:18:26+0000\",\\n  \"status\" : 412,\\n  \"error\" : \"Precondition Failed\",\\n  \"message\" : \"No message available\",\\n  \"path\" : \"/api/v1/receipts\"\\n}'"
      ]
     },
     "execution_count": 16,
     "metadata": {},
     "output_type": "execute_result"
    }
   ],
   "source": [
    "r2.content"
   ]
  },
  {
   "cell_type": "code",
   "execution_count": 17,
   "metadata": {},
   "outputs": [
    {
     "ename": "NameError",
     "evalue": "name 'url_recp_list' is not defined",
     "output_type": "error",
     "traceback": [
      "\u001b[0;31m---------------------------------------------------------------------------\u001b[0m",
      "\u001b[0;31mNameError\u001b[0m                                 Traceback (most recent call last)",
      "\u001b[0;32m<ipython-input-17-b53eb78da379>\u001b[0m in \u001b[0;36m<module>\u001b[0;34m()\u001b[0m\n\u001b[0;32m----> 1\u001b[0;31m \u001b[0mrecp\u001b[0m\u001b[0;34m=\u001b[0m\u001b[0mrequests\u001b[0m\u001b[0;34m.\u001b[0m\u001b[0mget\u001b[0m\u001b[0;34m(\u001b[0m\u001b[0murl_recp_list\u001b[0m\u001b[0;34m)\u001b[0m\u001b[0;34m\u001b[0m\u001b[0m\n\u001b[0m",
      "\u001b[0;31mNameError\u001b[0m: name 'url_recp_list' is not defined"
     ]
    }
   ],
   "source": [
    "recp=requests.get(url_recp_list)"
   ]
  },
  {
   "cell_type": "code",
   "execution_count": 18,
   "metadata": {},
   "outputs": [
    {
     "ename": "NameError",
     "evalue": "name 'recp' is not defined",
     "output_type": "error",
     "traceback": [
      "\u001b[0;31m---------------------------------------------------------------------------\u001b[0m",
      "\u001b[0;31mNameError\u001b[0m                                 Traceback (most recent call last)",
      "\u001b[0;32m<ipython-input-18-39ee36c7b9b0>\u001b[0m in \u001b[0;36m<module>\u001b[0;34m()\u001b[0m\n\u001b[0;32m----> 1\u001b[0;31m \u001b[0mrecp\u001b[0m\u001b[0;34m\u001b[0m\u001b[0m\n\u001b[0m",
      "\u001b[0;31mNameError\u001b[0m: name 'recp' is not defined"
     ]
    }
   ],
   "source": [
    "recp"
   ]
  },
  {
   "cell_type": "code",
   "execution_count": 11,
   "metadata": {},
   "outputs": [
    {
     "data": {
      "text/plain": [
       "b'{\\n  \"timestamp\" : \"2017-05-02T16:34:49+0000\",\\n  \"status\" : 403,\\n  \"error\" : \"Forbidden\",\\n  \"exception\" : \"org.springframework.security.access.AccessDeniedException\",\\n  \"message\" : \"Access is denied\",\\n  \"path\" : \"/api/v1/receipts\"\\n}'"
      ]
     },
     "execution_count": 11,
     "metadata": {},
     "output_type": "execute_result"
    }
   ],
   "source": [
    "recp.content"
   ]
  },
  {
   "cell_type": "code",
   "execution_count": null,
   "metadata": {
    "collapsed": true
   },
   "outputs": [],
   "source": []
  },
  {
   "cell_type": "code",
   "execution_count": null,
   "metadata": {
    "collapsed": true
   },
   "outputs": [],
   "source": []
  }
 ],
 "metadata": {
  "kernelspec": {
   "display_name": "Python 3",
   "language": "python",
   "name": "python3"
  },
  "language_info": {
   "codemirror_mode": {
    "name": "ipython",
    "version": 2
   },
   "file_extension": ".py",
   "mimetype": "text/x-python",
   "name": "python",
   "nbconvert_exporter": "python",
   "pygments_lexer": "ipython2",
   "version": "2.7.13"
  }
 },
 "nbformat": 4,
 "nbformat_minor": 2
}
