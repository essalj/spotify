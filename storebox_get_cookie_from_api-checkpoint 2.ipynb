{
 "cells": [
  {
   "cell_type": "code",
   "execution_count": 12,
   "metadata": {
    "collapsed": true
   },
   "outputs": [],
   "source": [
    "\n",
    "\n",
    "import requests\n",
    "r = requests.post('https://en.storebox.com/api/v1/authenticate', json={'username':'x.mails123@gmail.com', 'password':'Storebox123'})"
   ]
  },
  {
   "cell_type": "code",
   "execution_count": 13,
   "metadata": {},
   "outputs": [
    {
     "data": {
      "text/plain": [
       "<Response [200]>"
      ]
     },
     "execution_count": 13,
     "metadata": {},
     "output_type": "execute_result"
    }
   ],
   "source": [
    "r"
   ]
  },
  {
   "cell_type": "code",
   "execution_count": 14,
   "metadata": {},
   "outputs": [
    {
     "data": {
      "text/plain": [
       "b'{\\n  \"code\" : 0,\\n  \"message\" : \"Success\",\\n  \"payload\" : {\\n    \"userId\" : \"o4ogehr6m8kg3smb82lmqxsnq34giwei\",\\n    \"name\" : \"Camilla Kerlauge\",\\n    \"address\" : {\\n      \"addressLine\" : \"     \",\\n      \"city\" : null,\\n      \"zipCode\" : null,\\n      \"country\" : null\\n    },\\n    \"email\" : \"X.mails123@gmail.com\",\\n    \"newEmail\" : null,\\n    \"msisdn\" : 4561628174,\\n    \"newMsisdn\" : null,\\n    \"locale\" : \"en_US\",\\n    \"cardRequired\" : true,\\n    \"greenProfile\" : false,\\n    \"marketingPermission\" : false,\\n    \"createdBy\" : null,\\n    \"admin\" : false,\\n    \"expires\" : 1496335062322,\\n    \"accountNonExpired\" : true,\\n    \"accountNonLocked\" : true,\\n    \"credentialsNonExpired\" : true,\\n    \"enabled\" : true\\n  }\\n}'"
      ]
     },
     "execution_count": 14,
     "metadata": {},
     "output_type": "execute_result"
    }
   ],
   "source": [
    "r.content"
   ]
  },
  {
   "cell_type": "code",
   "execution_count": 28,
   "metadata": {},
   "outputs": [
    {
     "data": {
      "text/plain": [
       "'eyJhbGciOiJIUzI1NiJ9.eyJzdWIiOiJ7XCJ1c2VySWRcIjpcIndlbDRuZmR3eTJ5M3FhdDZ6dml2dm44MXlkdXFqYm1sXCIsXCJuYW1lXCI6XCJMQVNTRSBKRVJFTUlBU1NFTlwiLFwiYWRkcmVzc1wiOntcImFkZHJlc3NMaW5lXCI6XCJPbHNiw6ZrIHN0cmFuZHZlaiA1NmMgICAgICAgICAgICAgXCIsXCJjaXR5XCI6XCJHcmV2ZVwiLFwiemlwQ29kZVwiOlwiMjY3MFwiLFwiY291bnRyeVwiOm51bGx9LFwiZW1haWxcIjpcImVzc2FsakB5YWhvby5ka1wiLFwibmV3RW1haWxcIjpudWxsLFwibXNpc2RuXCI6NDUyNzI4NTEwMCxcIm5ld01zaXNkblwiOm51bGwsXCJsb2NhbGVcIjpcImRhX0RLXCIsXCJjYXJkUmVxdWlyZWRcIjp0cnVlLFwiZ3JlZW5Qcm9maWxlXCI6dHJ1ZSxcIm1hcmtldGluZ1Blcm1pc3Npb25cIjpmYWxzZSxcImNyZWF0ZWRCeVwiOm51bGwsXCJhZG1pblwiOmZhbHNlLFwiZXhwaXJlc1wiOjE0OTYzMzU4MDk3ODQsXCJhY2NvdW50Tm9uRXhwaXJlZFwiOnRydWUsXCJhY2NvdW50Tm9uTG9ja2VkXCI6dHJ1ZSxcImNyZWRlbnRpYWxzTm9uRXhwaXJlZFwiOnRydWUsXCJlbmFibGVkXCI6dHJ1ZX0iLCJleHAiOjE0OTYzMzU4MDl9.lpqS-tIr6q301MX7htjsSmHn2uwRy_GdG5m0-YKEjFc'"
      ]
     },
     "execution_count": 28,
     "metadata": {},
     "output_type": "execute_result"
    }
   ],
   "source": [
    "r.cookies['auth-token']"
   ]
  },
  {
   "cell_type": "code",
   "execution_count": 17,
   "metadata": {
    "collapsed": true
   },
   "outputs": [],
   "source": [
    "r2=requests.post('https://dk.storebox.com/api/v1/receipts?count=20&direction=desc&offset=0&orderBy=merchant')"
   ]
  },
  {
   "cell_type": "code",
   "execution_count": 19,
   "metadata": {},
   "outputs": [
    {
     "data": {
      "text/plain": [
       "b'{\\n  \"timestamp\" : \"2017-05-02T16:39:12+0000\",\\n  \"status\" : 412,\\n  \"error\" : \"Precondition Failed\",\\n  \"message\" : \"No message available\",\\n  \"path\" : \"/api/v1/receipts\"\\n}'"
      ]
     },
     "execution_count": 19,
     "metadata": {},
     "output_type": "execute_result"
    }
   ],
   "source": [
    "r2.content"
   ]
  },
  {
   "cell_type": "code",
   "execution_count": 7,
   "metadata": {
    "collapsed": true
   },
   "outputs": [],
   "source": [
    "recp=requests.get(url_recp_list)"
   ]
  },
  {
   "cell_type": "code",
   "execution_count": 8,
   "metadata": {},
   "outputs": [
    {
     "data": {
      "text/plain": [
       "<Response [403]>"
      ]
     },
     "execution_count": 8,
     "metadata": {},
     "output_type": "execute_result"
    }
   ],
   "source": [
    "recp"
   ]
  },
  {
   "cell_type": "code",
   "execution_count": 11,
   "metadata": {},
   "outputs": [
    {
     "data": {
      "text/plain": [
       "b'{\\n  \"timestamp\" : \"2017-05-02T16:34:49+0000\",\\n  \"status\" : 403,\\n  \"error\" : \"Forbidden\",\\n  \"exception\" : \"org.springframework.security.access.AccessDeniedException\",\\n  \"message\" : \"Access is denied\",\\n  \"path\" : \"/api/v1/receipts\"\\n}'"
      ]
     },
     "execution_count": 11,
     "metadata": {},
     "output_type": "execute_result"
    }
   ],
   "source": [
    "recp.content"
   ]
  },
  {
   "cell_type": "code",
   "execution_count": null,
   "metadata": {
    "collapsed": true
   },
   "outputs": [],
   "source": []
  },
  {
   "cell_type": "code",
   "execution_count": null,
   "metadata": {
    "collapsed": true
   },
   "outputs": [],
   "source": []
  }
 ],
 "metadata": {
  "kernelspec": {
   "display_name": "Python 3",
   "language": "python",
   "name": "python3"
  },
  "language_info": {
   "codemirror_mode": {
    "name": "ipython",
    "version": 3
   },
   "file_extension": ".py",
   "mimetype": "text/x-python",
   "name": "python",
   "nbconvert_exporter": "python",
   "pygments_lexer": "ipython3",
   "version": "3.6.1"
  }
 },
 "nbformat": 4,
 "nbformat_minor": 2
}
